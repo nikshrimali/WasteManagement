{
 "cells": [
  {
   "cell_type": "code",
   "execution_count": null,
   "metadata": {},
   "outputs": [],
   "source": [
    "#Reading the dataset\n",
    "\n",
    "print('Reading the data')\n",
    "#Reading the data\n",
    "member = ('../GarbageClassification/Garbage classification/Garbage classification/')\n",
    "catagories = os.listdir(member)\n",
    "list_items = []\n",
    "for cat in catagories:\n",
    "    catagory_img = (member  + cat)\n",
    "    #catagory_img.glob('*.jpeg')\n",
    "    for _ in (glob.glob(catagory_img +'/'+'*.jpg')):\n",
    "        list_items.append([cat, _])\n",
    "    \n",
    "#Convert list into dataframe\n",
    "\n",
    "data = pd.DataFrame(list_items,columns = ['catagory', 'filepath'], index = None)\n",
    "data = data.sample(frac=1).reset_index(drop=True)\n",
    "data.head(5)\n",
    "data.shape\n",
    "\n",
    "#Splitting the dataset into training, test and validation set\n",
    "\n",
    "print('Splitting the dataset')\n",
    "train_data = data[1:2000]\n",
    "val_data = data[2001:2200]\n",
    "test_data = data[2201:2527]\n"
   ]
  }
 ],
 "metadata": {
  "kernelspec": {
   "display_name": "Python 3",
   "language": "python",
   "name": "python3"
  },
  "language_info": {
   "codemirror_mode": {
    "name": "ipython",
    "version": 3
   },
   "file_extension": ".py",
   "mimetype": "text/x-python",
   "name": "python",
   "nbconvert_exporter": "python",
   "pygments_lexer": "ipython3",
   "version": "3.8.1"
  }
 },
 "nbformat": 4,
 "nbformat_minor": 4
}
